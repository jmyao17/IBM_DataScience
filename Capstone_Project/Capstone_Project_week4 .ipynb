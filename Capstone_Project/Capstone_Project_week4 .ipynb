{
 "cells": [
  {
   "cell_type": "markdown",
   "metadata": {},
   "source": [
    "# Capstone_Project_week4: assignment"
   ]
  },
  {
   "cell_type": "markdown",
   "metadata": {},
   "source": [
    "## Part 1: description of the project\n",
    "\n",
    "- A description of the problem and a discussion of the background.  \n",
    "- A description of the data and how it will be used to solve the problem.  "
   ]
  },
  {
   "cell_type": "markdown",
   "metadata": {},
   "source": [
    "# Project title: After-school program\n",
    "\n",
    "\n",
    "### 1.1 Introduction to the problem and background\n",
    "\n",
    "\n",
    "\n",
    "Let's say one of my friends plans to initialize an after-school program for elementary school students and middle-school students. He came to me and asked me for the suggestion on the location of the after-school program.\n",
    "In order to provide sound advice for him, we should consider the following factors:\n",
    "\n",
    "- distance between the location of the after-school program and the public schools.\n",
    "- number of schools nearby.\n",
    "- number of other existing after-school programs.\n",
    "\n",
    "Definitely, the travel cost from the schools to the after-school site is positively correlated to the distance between them. Moreover, there is a high probability that the more schools around the after-school site, the more students will enroll the after school program. But one should also check if there already exist other after-school programs in the neighborhood. \n",
    "\n",
    "\n",
    "### 1.2 Introduction to the data and methodoloy \n",
    "\n",
    "To this end, we should collect the data of schools,  number of other existing after-school programs, and the density of the schools in the neighbourhoods. \n",
    "\n",
    "The packages that we are going to use include (but not limited to):\n",
    "\n",
    "- requests\n",
    "- folium\n",
    "- Nominatim\n",
    "- pandas\n",
    "- numpy\n",
    "\n",
    "as well as foursquare API.\n",
    "\n",
    "Let's say my friend is also living in Lansing Capital Area, Michigan State. The procedure of preparing the data can be as follows:\n",
    "\n",
    "- download postal code from website, such as http://federalgovernmentzipcodes.us \n",
    "- add the information of the latitude and longitude if not available by using the get_latlon() function defined below\n",
    "- use Foursquare API to get all the venues in the Lansing Capital Area.\n",
    "- filtered out all the venues with the category of something like \"school\"\n",
    "- visualize the location of the schools with folium.Map\n",
    "- use the groupby method to sort the number of schools in each neighbourhoods\n",
    "- find out the number of existing after-school programs in each neighbourhoods\n",
    "- calculate the ratio of schools to after-school programs and use this ratio as a guideline \n"
   ]
  },
  {
   "cell_type": "code",
   "execution_count": 2,
   "metadata": {},
   "outputs": [],
   "source": [
    "from geopy.geocoders import Nominatim \n",
    "def get_latlon(address):\n",
    "    geolocator = Nominatim()\n",
    "    location   = geolocator.geocode(address)\n",
    "    latitude   = location.latitude\n",
    "    longitude  = location.longitude\n",
    "    return latitude, longitude"
   ]
  },
  {
   "cell_type": "code",
   "execution_count": null,
   "metadata": {},
   "outputs": [],
   "source": []
  }
 ],
 "metadata": {
  "kernelspec": {
   "display_name": "Python 3",
   "language": "python",
   "name": "python3"
  },
  "language_info": {
   "codemirror_mode": {
    "name": "ipython",
    "version": 3
   },
   "file_extension": ".py",
   "mimetype": "text/x-python",
   "name": "python",
   "nbconvert_exporter": "python",
   "pygments_lexer": "ipython3",
   "version": "3.6.5"
  }
 },
 "nbformat": 4,
 "nbformat_minor": 2
}
