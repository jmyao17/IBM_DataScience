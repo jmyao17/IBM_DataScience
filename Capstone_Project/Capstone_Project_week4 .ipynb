{
 "cells": [
  {
   "cell_type": "markdown",
   "metadata": {},
   "source": [
    "# Capstone_Project_week4: assignment"
   ]
  },
  {
   "cell_type": "markdown",
   "metadata": {},
   "source": [
    "## Part 1: description of the project\n",
    "\n",
    "- A description of the problem and a discussion of the background.  \n",
    "- A description of the data and how it will be used to solve the problem.  "
   ]
  },
  {
   "cell_type": "markdown",
   "metadata": {},
   "source": [
    "# Project title: After-school program\n",
    "\n",
    "\n",
    "### 1.1 Introduction to the problem and background\n",
    "\n",
    "Let's say one of my friends plans to initialize an after-school program for elementary-school students and middle-school students. He came to me and asked me for suggestion on the location of the after-school program.\n",
    "In order to provide a sound advice for him, we should consider the following factors:\n",
    "\n",
    "- distance between the location of the after-school program and the public schools.\n",
    "- number of schools nearby.\n",
    "- number of other existing after-school programs.\n",
    "\n",
    "Definitely, the travel cost from the public schoold to the after-school site is postively correlated to the distance between them. Moreover, there is a high probability that the more schools around the after-school site, the more students will enroll the after school program. But one should also check if there already exist other after-school programs in the neighbourhood. \n",
    "\n",
    "### 1.2 Introduction to the data and methodoloy \n",
    "\n",
    "To this end, we should collect the data of schools,  number of other existing after-school programs, and the density of the schools in the neighbourhoods. \n",
    "\n",
    "The packages that we are going to use include (but not limited to):\n",
    "\n",
    "- requests\n",
    "- folium\n",
    "- Nominatim\n",
    "- pandas\n",
    "- numpy\n",
    "\n",
    "as well as foursquare API."
   ]
  },
  {
   "cell_type": "code",
   "execution_count": null,
   "metadata": {},
   "outputs": [],
   "source": []
  }
 ],
 "metadata": {
  "kernelspec": {
   "display_name": "Python 3",
   "language": "python",
   "name": "python3"
  },
  "language_info": {
   "codemirror_mode": {
    "name": "ipython",
    "version": 3
   },
   "file_extension": ".py",
   "mimetype": "text/x-python",
   "name": "python",
   "nbconvert_exporter": "python",
   "pygments_lexer": "ipython3",
   "version": "3.6.5"
  }
 },
 "nbformat": 4,
 "nbformat_minor": 2
}
