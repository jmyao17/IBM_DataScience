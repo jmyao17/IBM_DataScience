{
 "cells": [
  {
   "cell_type": "markdown",
   "metadata": {},
   "source": [
    "# Linear Regression"
   ]
  },
  {
   "cell_type": "markdown",
   "metadata": {},
   "source": [
    "## 1. calculate the MSE\n",
    "\n",
    "$$\n",
    "MSE = \\sum_i (\\hat y-y_i)^2\n",
    "$$\n"
   ]
  },
  {
   "cell_type": "markdown",
   "metadata": {},
   "source": [
    "## 2. calculate the $R^2$ for X and Y\n",
    "\n",
    "$$\n",
    "R^2=(1-\\frac{\\rm MSE\\ of\\ regression\\ line}{\\rm MSE\\ of\\ mean\\ line})\n",
    "$$\n",
    "\n",
    "The $R^2$ is closer to 1, the more accurate the model is. The worst case is $R^2=0$."
   ]
  },
  {
   "cell_type": "markdown",
   "metadata": {},
   "source": [
    "# Simple Linear Regression\n",
    "\n",
    "$$\n",
    "y= aX + b\n",
    "$$"
   ]
  },
  {
   "cell_type": "code",
   "execution_count": 25,
   "metadata": {},
   "outputs": [
    {
     "data": {
      "text/plain": [
       "LinearRegression(copy_X=True, fit_intercept=True, n_jobs=1, normalize=False)"
      ]
     },
     "execution_count": 25,
     "metadata": {},
     "output_type": "execute_result"
    }
   ],
   "source": [
    "from sklearn.linear_model import *\n",
    "import numpy as np\n",
    "\n",
    "lm = LinearRegression()\n",
    "X = np.linspace(0,10,10)\n",
    "Y = X**2+2*X+3\n",
    "lm.fit(X[:,np.newaxis], Y)\n",
    "#lm.score(X,Y) # give the R^2\n"
   ]
  },
  {
   "cell_type": "markdown",
   "metadata": {},
   "source": [
    "# Add non-linear features by transforming the X into f(X)\n",
    "\n",
    "For $degree=2$ case:\n",
    "$$\n",
    "f(X) = aX^2+bX+c = a X_1 + b X_2 + c X_3 = (a,b,c)^T*(X_1,X_2,X_3) = \\sum^3_{i=1} A_i X_i\n",
    "$$\n",
    "where $X_1=X^2, X_2=X, X_3=1$, and $A_1=a, A_2=b, A_3=c$"
   ]
  },
  {
   "cell_type": "code",
   "execution_count": 43,
   "metadata": {},
   "outputs": [
    {
     "data": {
      "text/plain": [
       "LinearRegression(copy_X=True, fit_intercept=True, n_jobs=1, normalize=False)"
      ]
     },
     "execution_count": 43,
     "metadata": {},
     "output_type": "execute_result"
    }
   ],
   "source": [
    "from sklearn.preprocessing import PolynomialFeatures\n",
    "\n",
    "poly = PolynomialFeatures(degree=2)\n",
    "X_   = poly.fit_transform(X[:,np.newaxis]) \n",
    "\n",
    "lr = LinearRegression()\n",
    "lr.fit(X_,Y) "
   ]
  },
  {
   "cell_type": "code",
   "execution_count": 47,
   "metadata": {},
   "outputs": [
    {
     "data": {
      "text/plain": [
       "<matplotlib.legend.Legend at 0x1a1d92b710>"
      ]
     },
     "execution_count": 47,
     "metadata": {},
     "output_type": "execute_result"
    },
    {
     "data": {
      "image/png": "[encoded data removed]",
      "text/plain": [
       "<Figure size 432x288 with 1 Axes>"
      ]
     },
     "metadata": {},
     "output_type": "display_data"
    }
   ],
   "source": [
    "import matplotlib.pyplot as plt\n",
    "plt.scatter(X, Y, c='k')\n",
    "plt.plot(X, lm.predict(X[:, np.newaxis]), 'b:',label='Simple LR')\n",
    "plt.plot(X, lr.predict(X_), 'r-',label='Polynomia LR')\n",
    "plt.legend()"
   ]
  },
  {
   "cell_type": "markdown",
   "metadata": {},
   "source": [
    "## Mean Squared Error (MSE) between your predicted values Yhat and actual values Y"
   ]
  },
  {
   "cell_type": "code",
   "execution_count": 58,
   "metadata": {},
   "outputs": [
    {
     "name": "stdout",
     "output_type": "stream",
     "text": [
      "Coefficients: \n",
      " [0. 2. 1.]\n",
      "Intercept: \n",
      " 2.999999999999986\n",
      "R2: 1.0\n",
      "MSE: 1.2400893430074305e-28\n"
     ]
    }
   ],
   "source": [
    "from sklearn.metrics import mean_squared_error\n",
    "\n",
    "\n",
    "# The coefficients\n",
    "print('Coefficients: \\n', lr.coef_)\n",
    "print('Intercept: \\n', lr.intercept_)\n",
    "print('R2:', lr.score(X_,Y))\n",
    "print('MSE:',mean_squared_error(lr.predict(X_),Y))"
   ]
  },
  {
   "cell_type": "markdown",
   "metadata": {},
   "source": [
    "## Using pipeline"
   ]
  },
  {
   "cell_type": "code",
   "execution_count": null,
   "metadata": {},
   "outputs": [],
   "source": [
    "Input=[('scale',StandardScaler()),('model',LinearRegression())]\n",
    "\n",
    "pipe=Pipeline(Input)\n",
    "\n",
    "pipe.fit(Z,y)\n",
    "\n",
    "ypipe=pipe.predict(Z)"
   ]
  },
  {
   "cell_type": "markdown",
   "metadata": {},
   "source": [
    "# Model Validation"
   ]
  },
  {
   "cell_type": "markdown",
   "metadata": {},
   "source": [
    "# 1. Cross_Validation"
   ]
  },
  {
   "cell_type": "code",
   "execution_count": null,
   "metadata": {},
   "outputs": [],
   "source": [
    "from sklearn.model_selection import cross_val_sc\n",
    "scores= cross_val_score(lr, x_data, y_data, cv=10)"
   ]
  }
 ],
 "metadata": {
  "kernelspec": {
   "display_name": "Python 3",
   "language": "python",
   "name": "python3"
  },
  "language_info": {
   "codemirror_mode": {
    "name": "ipython",
    "version": 3
   },
   "file_extension": ".py",
   "mimetype": "text/x-python",
   "name": "python",
   "nbconvert_exporter": "python",
   "pygments_lexer": "ipython3",
   "version": "3.6.5"
  }
 },
 "nbformat": 4,
 "nbformat_minor": 2
}
